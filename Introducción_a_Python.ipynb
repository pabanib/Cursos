{
  "nbformat": 4,
  "nbformat_minor": 0,
  "metadata": {
    "colab": {
      "provenance": [],
      "authorship_tag": "ABX9TyP0b+NdqecfrIj/uLuVrxUO",
      "include_colab_link": true
    },
    "kernelspec": {
      "name": "python3",
      "display_name": "Python 3"
    },
    "language_info": {
      "name": "python"
    }
  },
  "cells": [
    {
      "cell_type": "markdown",
      "metadata": {
        "id": "view-in-github",
        "colab_type": "text"
      },
      "source": [
        "<a href=\"https://colab.research.google.com/github/pabanib/Cursos/blob/master/Introducci%C3%B3n_a_Python.ipynb\" target=\"_parent\"><img src=\"https://colab.research.google.com/assets/colab-badge.svg\" alt=\"Open In Colab\"/></a>"
      ]
    },
    {
      "cell_type": "markdown",
      "source": [
        "# Introducción a Python para Ciencia de Datos\n",
        "¡Bienvenido/a a esta introducción intensiva a Python enfocado en la Ciencia de Datos!. Cubriremos los fundamentos esenciales que necesitas para empezar a trabajar con datos usando Python.\n",
        "\n",
        "**¿Por qué Python para Ciencia de Datos?**\n",
        "\n",
        "Python se ha convertido en el lenguaje de programación dominante en el mundo de la Ciencia de Datos y el Machine Learning por varias razones:\n",
        "\n",
        "* **Sintaxis Sencilla:** Es relativamente fácil de leer y escribir, lo que lo hace ideal para empezar.\n",
        "* **Gran Ecosistema de Bibliotecas:** Existen bibliotecas increíblemente poderosas y optimizadas para tareas de datos como `Numpy`, `Pandas`, `Matplotlib`, `Seaborn`, `Scikit-learn`, etc. Hoy veremos las fundamentales.\n",
        "* **Comunidad Activa:** Hay una enorme comunidad global que ofrece soporte, tutoriales y desarrolla nuevas herramientas constantemente.\n",
        "* **Versatilidad:** Python no solo sirve para datos, sino también para desarrollo web, automatización y mucho más."
      ],
      "metadata": {
        "id": "MfHuFg2VD1NB"
      }
    },
    {
      "cell_type": "markdown",
      "source": [
        "# ¿Qué es Google Colab?\n",
        "\n",
        "Estás usando Google Colaboratory (o \"Colab\"). Es un entorno basado en la nube que te permite escribir y ejecutar código Python directamente en tu navegador. Piensa en él como un cuaderno digital interactivo.\n",
        "\n",
        "**Conceptos Clave de Colab:**\n",
        "\n",
        "* **Celdas:** El notebook se compone de celdas. Hay dos tipos principales:\n",
        "    * **Celdas de Texto (Markdown):** Como esta que estás leyendo. Contienen texto formateado, explicaciones, imágenes, etc.\n",
        "    * **Celdas de Código (Python):** Contienen código Python que puedes ejecutar. Verás ejemplos pronto.\n",
        "* **Ejecutar Celdas:** Para ejecutar una celda de código y ver su resultado, selecciónala haciendo clic en ella y presiona `Shift + Enter`. También puedes hacer clic en el botón de \"Play\" (▶️) que aparece a la izquierda de la celda.\n",
        "* **Crear Celdas:** Puedes añadir nuevas celdas usando los botones `+ Código` y `+ Texto` que aparecen en la barra de herramientas superior o al pasar el ratón entre celdas existentes.\n",
        "* **Orden de Ejecución:** El código se ejecuta en el orden en que ejecutas las celdas. Si una celda depende de una variable creada en una celda anterior, asegúrate de ejecutar la celda anterior primero."
      ],
      "metadata": {
        "id": "yRzyn5u-EDjP"
      }
    },
    {
      "cell_type": "markdown",
      "source": [
        "# Markdown Básico en Colab\n",
        "\n",
        "Las celdas de texto usan un lenguaje de formato llamado Markdown. Es muy sencillo. Aquí tienes algunos ejemplos básicos:\n",
        "\n",
        "* **Títulos:** Usa el símbolo `#` al principio de la línea. Más `#` significan títulos de menor nivel:\n",
        "    ```\n",
        "    # Título Principal (Nivel 1)\n",
        "    ## Subtítulo (Nivel 2)\n",
        "    ### Sub-subtítulo (Nivel 3)\n",
        "    ```\n",
        "* **Negrita:** Envuelve el texto con dos asteriscos `**texto en negrita**` o dos guiones bajos `__texto en negrita__`. Ejemplo: **Esto es importante**.\n",
        "* **Cursiva:** Envuelve el texto con un asterisco `*texto en cursiva*` o un guion bajo `_texto en cursiva_`. Ejemplo: *Esto es énfasis*.\n",
        "* **Listas:**\n",
        "    * No ordenadas: Empieza la línea con `-` o `*`.\n",
        "        ```\n",
        "        - Elemento 1\n",
        "        - Elemento 2\n",
        "          * Subelemento A\n",
        "        ```\n",
        "    * Ordenadas: Empieza la línea con un número seguido de un punto `1.`.\n",
        "        ```\n",
        "        1. Primer paso\n",
        "        2. Segundo paso\n",
        "        ```\n",
        "* **Enlaces:** `[Texto visible](URL)` Ejemplo: [Google](https://www.google.com)\n",
        "\n",
        "¡No necesitas memorizar esto ahora, pero es útil saber que existe!"
      ],
      "metadata": {
        "id": "SUEBLDfsEGEm"
      }
    },
    {
      "cell_type": "markdown",
      "source": [
        "# 2. Fundamentos del Lenguaje Python\n",
        "\n",
        "Empecemos con los bloques de construcción básicos de Python."
      ],
      "metadata": {
        "id": "Ca0HN9wqEI-d"
      }
    },
    {
      "cell_type": "markdown",
      "source": [
        "## Tipos de Datos Primitivos\n",
        "\n",
        "Son los tipos de datos más fundamentales."
      ],
      "metadata": {
        "id": "vEUTCotCEMwN"
      }
    },
    {
      "cell_type": "markdown",
      "source": [
        "### Enteros (`int`)\n",
        "\n",
        "Representan números enteros (sin decimales)."
      ],
      "metadata": {
        "id": "nWX9tgwoEO5N"
      }
    },
    {
      "cell_type": "code",
      "execution_count": null,
      "metadata": {
        "id": "RNxBM65pDzoU"
      },
      "outputs": [],
      "source": [
        "# Ejemplo de un entero\n",
        "edad = 30\n",
        "print(edad) # Muestra el valor de la variable\n",
        "print(type(edad)) # Muestra el tipo de dato de la variable"
      ]
    },
    {
      "cell_type": "markdown",
      "source": [
        "### Flotantes (`float`)\n",
        "\n",
        "Representan números con decimales. Se usa el punto `.` como separador decimal."
      ],
      "metadata": {
        "id": "7KrGk4lvEZBM"
      }
    },
    {
      "cell_type": "code",
      "source": [
        "# Ejemplo de un flotante\n",
        "precio = 99.95\n",
        "print(precio)\n",
        "print(type(precio))"
      ],
      "metadata": {
        "id": "b9g_dSY7EWiU"
      },
      "execution_count": null,
      "outputs": []
    },
    {
      "cell_type": "markdown",
      "source": [
        "### Cadenas de Texto (`str`)\n",
        "\n",
        "Representan secuencias de caracteres (texto). Se definen usando comillas simples `'...'` o dobles `\"...\"`.\n",
        "\n",
        "Las **f-strings** (cadenas formateadas) son una forma muy útil y moderna de incluir el valor de variables dentro de una cadena. Se marcan con una `f` antes de las comillas y las variables se ponen entre llaves `{}`."
      ],
      "metadata": {
        "id": "HZRTr_GfEiSC"
      }
    },
    {
      "cell_type": "code",
      "source": [
        "# Ejemplo de strings\n",
        "nombre = \"Ana\"\n",
        "saludo = 'Hola'\n",
        "mensaje_completo = f\"{saludo}, {nombre}! Tu edad es {edad}.\" # Usando f-string\n",
        "\n",
        "print(nombre)\n",
        "print(type(nombre))\n",
        "print(mensaje_completo)\n",
        "\n",
        "# Concatenación (unir strings)\n",
        "frase = saludo + \" \" + nombre + \".\"\n",
        "print(frase)"
      ],
      "metadata": {
        "id": "y1Bj1Y8lEf0C"
      },
      "execution_count": null,
      "outputs": []
    },
    {
      "cell_type": "code",
      "source": [
        "# Ejercicio Práctico: Strings\n",
        "# 1. Crea una variable 'ciudad' con el nombre de tu ciudad.\n",
        "# 2. Crea una variable 'pais' con el nombre de tu país.\n",
        "# 3. Usando una f-string, crea una variable 'ubicacion' que diga \"Vivo en [ciudad], [pais].\"\n",
        "# 4. Imprime la variable 'ubicacion'."
      ],
      "metadata": {
        "id": "DcLmAKwmElTC"
      },
      "execution_count": null,
      "outputs": []
    },
    {
      "cell_type": "markdown",
      "source": [
        "### Booleanos (`bool`)\n",
        "\n",
        "Representan valores de verdad: `True` (Verdadero) o `False` (Falso). Son el resultado de comparaciones.\n",
        "\n",
        "**Operadores de Comparación Comunes:**\n",
        "* `==` : Igual a\n",
        "* `!=` : Diferente de\n",
        "* `>`  : Mayor que\n",
        "* `<`  : Menor que\n",
        "* `>=` : Mayor o igual que\n",
        "* `<=` : Menor o igual que"
      ],
      "metadata": {
        "id": "RiDCyI2lE1qo"
      }
    },
    {
      "cell_type": "code",
      "source": [
        "# Ejemplo de booleanos\n",
        "es_mayor_de_edad = edad >= 18\n",
        "es_menor_de_edad = edad < 18\n",
        "precios_iguales = precio == 99.95\n",
        "\n",
        "print(f\"¿Es mayor de edad? {es_mayor_de_edad}\")\n",
        "print(type(es_mayor_de_edad))\n",
        "print(f\"¿Es menor de edad? {es_menor_de_edad}\")\n",
        "print(f\"¿El precio es 99.95? {precios_iguales}\")\n",
        "\n",
        "comparacion = 5 > 10\n",
        "print(f\"¿Es 5 mayor que 10? {comparacion}\")"
      ],
      "metadata": {
        "id": "sM4982NcErRK"
      },
      "execution_count": null,
      "outputs": []
    },
    {
      "cell_type": "markdown",
      "source": [
        "## Variables\n",
        "\n",
        "Una variable es como una etiqueta que le pones a un valor para poder referirte a él más tarde.\n",
        "\n",
        "* **Declaración y Asignación:** Se usa el signo igual `=` para asignar un valor a un nombre de variable. El nombre debe empezar por una letra o guion bajo `_` y no puede contener espacios ni caracteres especiales (excepto `_`). Python distingue entre mayúsculas y minúsculas (`edad` es diferente de `Edad`)."
      ],
      "metadata": {
        "id": "u6hNBWwCE-QI"
      }
    },
    {
      "cell_type": "code",
      "source": [
        "# Asignación de variables (ya lo hemos estado haciendo!)\n",
        "mi_variable = \"Este es un valor\"\n",
        "numero = 100\n",
        "pi = 3.14159\n",
        "print(numero)\n",
        "# Podemos reasignar variables\n",
        "numero = numero + 10 # Ahora numero vale 110\n",
        "print(numero)\n",
        "\n",
        "numero += 5 # Forma abreviada de numero = numero + 5\n",
        "print(numero) # Ahora numero vale 115"
      ],
      "metadata": {
        "id": "Y2d9xl-zE6IP"
      },
      "execution_count": null,
      "outputs": []
    },
    {
      "cell_type": "code",
      "source": [
        "mi_variable + ' 10'"
      ],
      "metadata": {
        "id": "Mtp7rf6LnEWH"
      },
      "execution_count": null,
      "outputs": []
    },
    {
      "cell_type": "code",
      "source": [
        "mi_variable = 10\n",
        "print(type(mi_variable))"
      ],
      "metadata": {
        "id": "es7O9cs-m5kW"
      },
      "execution_count": null,
      "outputs": []
    },
    {
      "cell_type": "markdown",
      "source": [
        "## Operaciones Aritméticas\n",
        "\n",
        "Python soporta las operaciones matemáticas básicas:\n",
        "* `+` : Suma\n",
        "* `-` : Resta\n",
        "* `*` : Multiplicación\n",
        "* `/` : División (resultado siempre float)\n",
        "* `%` : Módulo (resto de la división entera)\n",
        "* `**`: Exponenciación (elevar a la potencia)\n",
        "* `//`: División entera (resultado siempre int, descarta decimales)"
      ],
      "metadata": {
        "id": "OsZIzZFOFC4w"
      }
    },
    {
      "cell_type": "code",
      "source": [
        "# Ejemplo de operaciones aritméticas\n",
        "a = 10\n",
        "b = 3\n",
        "\n",
        "suma = a + b\n",
        "resta = a - b\n",
        "multiplicacion = a * b\n",
        "division = a / b\n",
        "modulo = a % b\n",
        "potencia = a ** b\n",
        "division_entera = a // b\n",
        "\n",
        "print(f\"Suma: {suma}\")\n",
        "print(f\"Resta: {resta}\")\n",
        "print(f\"Multiplicación: {multiplicacion}\")\n",
        "print(f\"División: {division}\")\n",
        "print(f\"Módulo: {modulo}\")\n",
        "print(f\"Potencia: {potencia}\")\n",
        "print(f\"División Entera: {division_entera}\")"
      ],
      "metadata": {
        "id": "A-lEa8wxFAeI"
      },
      "execution_count": null,
      "outputs": []
    },
    {
      "cell_type": "code",
      "source": [
        "pi + b"
      ],
      "metadata": {
        "id": "DrervDvinolb"
      },
      "execution_count": null,
      "outputs": []
    },
    {
      "cell_type": "markdown",
      "source": [
        "## Estructuras de Datos\n",
        "\n",
        "Permiten almacenar y organizar colecciones de datos."
      ],
      "metadata": {
        "id": "_Nafknk8FJpZ"
      }
    },
    {
      "cell_type": "markdown",
      "source": [
        "### Listas (`list`)\n",
        "\n",
        "* Colecciones **ordenadas** de elementos.\n",
        "* Son **mutables** (puedes cambiar su contenido: añadir, eliminar o modificar elementos).\n",
        "* Se definen con corchetes `[]`, separando los elementos con comas.\n",
        "* Los elementos pueden ser de diferentes tipos.\n",
        "* Se accede a los elementos por su **índice** (posición), que empieza en `0`.\n",
        "* El método `.append()` añade un elemento al final de la lista."
      ],
      "metadata": {
        "id": "Gl1SRz0fFM7J"
      }
    },
    {
      "cell_type": "code",
      "source": [
        "# Ejemplo de listas\n",
        "frutas = [\"manzana\", \"banana\", \"cereza\"]\n",
        "numeros_variados = [1, 2.5, 3, 4.0]\n",
        "lista_mixta = [10, \"hola\", True, 3.14]\n",
        "\n",
        "print(frutas)\n",
        "print(type(frutas))\n",
        "\n"
      ],
      "metadata": {
        "id": "IIFoHDcqFLiJ"
      },
      "execution_count": null,
      "outputs": []
    },
    {
      "cell_type": "code",
      "source": [
        "# Acceso por índice (el primer elemento es el índice 0)\n",
        "primera_fruta = frutas[0]\n",
        "segunda_fruta = frutas[1]\n",
        "print(f\"La primera fruta es: {primera_fruta} y la segunda fruta es {segunda_fruta}\")\n",
        "\n"
      ],
      "metadata": {
        "id": "QZabMej6oUbw"
      },
      "execution_count": null,
      "outputs": []
    },
    {
      "cell_type": "code",
      "source": [
        "# Modificar un elemento\n",
        "frutas[1] = \"mandarina\"\n",
        "print(f\"Lista modificada: {frutas}\")\n",
        "\n",
        "# Añadir un elemento al final\n",
        "frutas.append(\"naranja\")\n",
        "print(f\"Lista después de append: {frutas}\")\n",
        "\n",
        "# Longitud de la lista\n",
        "print(f\"Número de frutas: {len(frutas)}\")"
      ],
      "metadata": {
        "id": "KYkGFHTSozTq"
      },
      "execution_count": null,
      "outputs": []
    },
    {
      "cell_type": "code",
      "source": [
        "print(numeros_variados)\n",
        "numeros = numeros_variados\n",
        "print(numeros)\n",
        "numeros_variados[0] = 25\n",
        "print(numeros_variados)\n",
        "print(numeros)"
      ],
      "metadata": {
        "id": "E2YOOjkTpuu6"
      },
      "execution_count": null,
      "outputs": []
    },
    {
      "cell_type": "code",
      "source": [
        "numeros = numeros_variados.copy()\n",
        "numeros_variados[2] = 120\n",
        "print(numeros_variados)\n",
        "print(numeros)"
      ],
      "metadata": {
        "id": "UL6I3MOeqLQl"
      },
      "execution_count": null,
      "outputs": []
    },
    {
      "cell_type": "code",
      "source": [
        "# Ejercicio Práctico: Listas\n",
        "# 1. Crea una lista llamada 'cursos' con los nombres de 3 cursos que te interesen (como strings).\n",
        "# 2. Imprime el segundo curso de la lista (recuerda que el índice empieza en 0).\n",
        "# 3. Añade un nuevo curso llamado 'Python' al final de la lista 'cursos' usando append().\n",
        "# 4. Imprime la lista 'cursos' completa."
      ],
      "metadata": {
        "id": "K4CdxCRXFPSx"
      },
      "execution_count": null,
      "outputs": []
    },
    {
      "cell_type": "markdown",
      "source": [
        "### Tuplas (`tuple`)\n",
        "\n",
        "* Colecciones **ordenadas** de elementos, similares a las listas.\n",
        "* Son **inmutables** (una vez creadas, no puedes cambiar su contenido: ni añadir, ni eliminar, ni modificar elementos).\n",
        "* Se definen con paréntesis `()`, separando los elementos con comas.\n",
        "* Se accede a los elementos por su **índice** (posición), igual que las listas.\n",
        "* Son útiles para datos que no deben cambiar, como coordenadas o registros fijos."
      ],
      "metadata": {
        "id": "jNSINhQFFWPR"
      }
    },
    {
      "cell_type": "code",
      "source": [
        "# Ejemplo de tuplas\n",
        "coordenadas = (10.0, 20.5)\n",
        "colores_rgb = (255, 0, 0) # Rojo\n",
        "\n",
        "print(coordenadas)\n",
        "print(type(coordenadas))\n",
        "\n",
        "# Acceso por índice\n",
        "latitud = coordenadas[0]\n",
        "print(f\"Latitud: {latitud}\")\n",
        "\n",
        "# Intentar modificar una tupla dará un error (TypeError)\n",
        "# coordenadas[0] = 15.0 # Esto causará un error si descomentas la línea\n",
        "\n",
        "# Longitud de la tupla\n",
        "print(f\"Número de elementos en colores_rgb: {len(colores_rgb)}\")"
      ],
      "metadata": {
        "id": "f3DmAjHnFSDZ"
      },
      "execution_count": null,
      "outputs": []
    },
    {
      "cell_type": "code",
      "source": [
        "# Ejercicio Práctico: Tuplas\n",
        "# 1. Crea una tupla llamada 'fecha_nacimiento' con tres números enteros: (día, mes, año).\n",
        "# 2. Imprime la tupla completa.\n",
        "# 3. Imprime el año de nacimiento accediendo al elemento correspondiente por su índice."
      ],
      "metadata": {
        "id": "fTkb8s9qFauy"
      },
      "execution_count": null,
      "outputs": []
    },
    {
      "cell_type": "markdown",
      "source": [
        "### Diccionarios (`dict`)\n",
        "\n",
        "* Colecciones **ordenadas** de pares **clave-valor**.\n",
        "* Son **mutables** (puedes añadir, eliminar o modificar pares clave-valor).\n",
        "* Se definen con llaves `{}`. Cada elemento es un par `clave: valor`, separado por comas.\n",
        "* Las **claves** deben ser únicas y de un tipo inmutable (normalmente strings o números).\n",
        "* Los **valores** pueden ser de cualquier tipo (incluso otras listas o diccionarios).\n",
        "* Se accede a los valores a través de su **clave**, no por índice numérico."
      ],
      "metadata": {
        "id": "e443dP3vFg5q"
      }
    },
    {
      "cell_type": "code",
      "source": [
        "# Ejemplo de diccionario\n",
        "estudiante = {\n",
        "    \"nombre\": \"Carlos\",\n",
        "    \"edad\": 22,\n",
        "    \"curso\": \"Ciencia de Datos\",\n",
        "    \"activo\": True\n",
        "}\n",
        "\n",
        "print(estudiante)\n",
        "print(type(estudiante))\n",
        "\n"
      ],
      "metadata": {
        "id": "DNc-UqAkFfQ5"
      },
      "execution_count": null,
      "outputs": []
    },
    {
      "cell_type": "code",
      "source": [
        "# Acceso a valores por clave\n",
        "nombre_estudiante = estudiante[\"nombre\"]\n",
        "edad_estudiante = estudiante[\"edad\"]\n",
        "print(f\"Nombre: {nombre_estudiante}, Edad: {edad_estudiante}\")\n",
        "\n"
      ],
      "metadata": {
        "id": "ZM_xJm4OugUK"
      },
      "execution_count": null,
      "outputs": []
    },
    {
      "cell_type": "code",
      "source": [
        "# Modificar un valor\n",
        "estudiante[\"curso\"] = \"Ingeniería de Datos\"\n",
        "print(f\"Diccionario modificado: {estudiante}\")\n"
      ],
      "metadata": {
        "id": "OA8XEg-mueTS"
      },
      "execution_count": null,
      "outputs": []
    },
    {
      "cell_type": "code",
      "source": [
        "# Añadir un nuevo par clave-valor\n",
        "estudiante[\"ciudad\"] = \"Córdoba\"\n",
        "print(f\"Diccionario con nuevo elemento: {estudiante}\")\n"
      ],
      "metadata": {
        "id": "amLJ5HVJu7fn"
      },
      "execution_count": null,
      "outputs": []
    },
    {
      "cell_type": "code",
      "source": [
        "# Obtener todas las claves\n",
        "print(f\"Claves: {estudiante.keys()}\")\n",
        "# Obtener todos los valores\n",
        "print(f\"Valores: {estudiante.values()}\")"
      ],
      "metadata": {
        "id": "Dts1EL39u5z9"
      },
      "execution_count": null,
      "outputs": []
    },
    {
      "cell_type": "code",
      "source": [
        "# Ejercicio Práctico: Diccionarios\n",
        "# 1. Crea un diccionario llamado 'producto' con la siguiente información:\n",
        "#    - 'nombre': 'Laptop'\n",
        "#    - 'precio': 1200.50\n",
        "#    - 'stock': 50\n",
        "# 2. Imprime el diccionario completo.\n",
        "# 3. Imprime el precio del producto accediendo a su valor mediante la clave 'precio'.\n",
        "# 4. Añade un nuevo par clave-valor al diccionario: 'marca': 'MiMarca'.\n",
        "# 5. Imprime el diccionario actualizado."
      ],
      "metadata": {
        "id": "VpBxZSWwFj2h"
      },
      "execution_count": null,
      "outputs": []
    },
    {
      "cell_type": "markdown",
      "source": [
        "## Estructuras de Control\n",
        "\n",
        "Permiten controlar el flujo de ejecución del programa."
      ],
      "metadata": {
        "id": "9JC4TuWRFmw5"
      }
    },
    {
      "cell_type": "markdown",
      "source": [
        "### Condicionales (`if`, `elif`, `else`)\n",
        "\n",
        "Permiten ejecutar bloques de código solo si se cumplen ciertas condiciones.\n",
        "\n",
        "* `if`: Ejecuta el bloque si la condición es `True`.\n",
        "* `elif` (else if): Se evalúa si el `if` anterior (o `elif` anterior) fue `False`. Ejecuta el bloque si su propia condición es `True`. Puedes tener varios `elif`.\n",
        "* `else`: Se ejecuta si todas las condiciones anteriores (`if` y `elif`) fueron `False`. Es opcional."
      ],
      "metadata": {
        "id": "vn6Aft9rFpO7"
      }
    },
    {
      "cell_type": "code",
      "source": [
        "# Ejemplo de condicionales\n",
        "temperatura = 15\n",
        "\n",
        "if temperatura > 20:\n",
        "    print(\"Hace calor.\")\n",
        "else:\n",
        "    print(\"Está fresco.\")\n",
        "\n"
      ],
      "metadata": {
        "id": "C5S4s9DuFl1J"
      },
      "execution_count": null,
      "outputs": []
    },
    {
      "cell_type": "code",
      "source": [
        "# Otro ejemplo\n",
        "nota = 20\n",
        "if nota >= 90:\n",
        "  calificacion = \"Sobresaliente\"\n",
        "elif nota >= 70:\n",
        "  calificacion = \"Notable\"\n",
        "elif nota >= 50:\n",
        "  calificacion = \"Aprobado\"\n",
        "else:\n",
        "  calificacion = \"Desaprobado\"\n",
        "\n",
        "print(f\"Con una nota de {nota}, la calificación es: {calificacion}\")"
      ],
      "metadata": {
        "id": "JnCy7QAzvknT"
      },
      "execution_count": null,
      "outputs": []
    },
    {
      "cell_type": "code",
      "source": [
        "# Ejercicio Práctico: Condicionales\n",
        "# 1. Crea una variable 'puntuacion' con un valor entero (ej: 85).\n",
        "# 2. Escribe una estructura if-elif-else que:\n",
        "#    - Si 'puntuacion' es mayor o igual a 90, imprima \"Excelente\".\n",
        "#    - Si 'puntuacion' está entre 70 y 89 (inclusive), imprima \"Bueno\".\n",
        "#    - Si 'puntuacion' está entre 50 y 69 (inclusive), imprima \"Suficiente\".\n",
        "#    - En cualquier otro caso (menor que 50), imprima \"Insuficiente\"."
      ],
      "metadata": {
        "id": "QE80OtG7Ftfq"
      },
      "execution_count": null,
      "outputs": []
    },
    {
      "cell_type": "markdown",
      "source": [
        "### Bucles (`for` y `while`)\n",
        "\n",
        "Permiten repetir bloques de código múltiples veces.\n",
        "\n",
        "* **Bucle `for`:** Itera (recorre) sobre los elementos de una secuencia (como una lista, tupla, string o un rango de números).\n",
        "* **`range(start, stop, step)`:** Función útil para generar secuencias de números. `start` es el inicio (incluido, por defecto 0), `stop` es el fin (excluido), `step` es el incremento (por defecto 1).\n",
        "* **Bucle `while`:** Repite el bloque mientras una condición sea `True`. ¡Cuidado con crear bucles infinitos si la condición nunca se vuelve `False`!"
      ],
      "metadata": {
        "id": "na1BGoEvF0T6"
      }
    },
    {
      "cell_type": "code",
      "source": [
        "# Ejemplo de bucle for con una lista\n",
        "print(\"Recorriendo lista de frutas:\")\n",
        "for fruta in frutas: # La variable 'fruta' toma el valor de cada elemento en cada iteración\n",
        "    print(f\"- {fruta}\")\n"
      ],
      "metadata": {
        "id": "jgHMkJN0Fxbb"
      },
      "execution_count": null,
      "outputs": []
    },
    {
      "cell_type": "code",
      "source": [
        "# Ejemplo de bucle for con range()\n",
        "print(\"\\nNúmeros del 0 al 4:\")\n",
        "for i in range(5): # range(5) genera 0, 1, 2, 3, 4\n",
        "    print(i)\n",
        "\n"
      ],
      "metadata": {
        "id": "Zqpji2KBw-QU"
      },
      "execution_count": null,
      "outputs": []
    },
    {
      "cell_type": "code",
      "source": [
        "print(\"\\nNúmeros pares del 2 al 10:\")\n",
        "for i in range(2, 11, 2): # Empieza en 2, hasta 11 (no incluido), de 2 en 2\n",
        "    print(i)\n"
      ],
      "metadata": {
        "id": "KG3aeGuwxBQ8"
      },
      "execution_count": null,
      "outputs": []
    },
    {
      "cell_type": "code",
      "source": [
        "# Ejemplo de bucle while\n",
        "print(\"\\nContador con while:\")\n",
        "contador = 0\n",
        "while contador < 5:\n",
        "    print(f\"Contador actual: {contador}\")\n",
        "    contador += 1 # ¡Importante! Incrementar el contador para que la condición eventualmente sea False\n",
        "print(\"Fin del bucle while.\")"
      ],
      "metadata": {
        "id": "NX-W8ZYJxCue"
      },
      "execution_count": null,
      "outputs": []
    },
    {
      "cell_type": "code",
      "source": [
        "# Ejercicio Práctico: Bucle For\n",
        "# 1. Tienes la siguiente lista de números: numeros = [10, 20, 30, 40, 50]\n",
        "# 2. Usa un bucle 'for' para iterar sobre la lista 'numeros'.\n",
        "# 3. Dentro del bucle, imprime cada número multiplicado por 2.\n",
        "\n",
        "numeros = [10, 20, 30, 40, 50]\n",
        "# Escribe tu bucle for aquí"
      ],
      "metadata": {
        "id": "UhdrWZA6F5QL"
      },
      "execution_count": null,
      "outputs": []
    },
    {
      "cell_type": "markdown",
      "source": [
        "## Funciones\n",
        "\n",
        "Bloques de código reutilizables que realizan una tarea específica. Ayudan a organizar el código y evitar repeticiones.\n",
        "\n",
        "* Se definen usando la palabra clave `def`, seguida del nombre de la función, paréntesis `()` (que pueden contener parámetros) y dos puntos `:`.\n",
        "* El código dentro de la función debe estar indentado.\n",
        "* **Parámetros:** Variables que la función recibe como entrada.\n",
        "* **`return`:** Palabra clave usada para devolver un valor desde la función. Si no hay `return`, la función devuelve `None` por defecto.\n",
        "* Para usar una función, la **llamas** por su nombre seguido de paréntesis, pasando los argumentos necesarios."
      ],
      "metadata": {
        "id": "xH3J2_MpGBBL"
      }
    },
    {
      "cell_type": "code",
      "source": [
        "# Ejemplo de función simple\n",
        "def saludar():\n",
        "    \"\"\"Esta función imprime un saludo simple.\"\"\"\n",
        "    print(\"Hola desde la función!\")\n",
        "\n",
        "# Llamar a la función\n",
        "saludar()\n"
      ],
      "metadata": {
        "id": "Vm9HgbNkF_rT"
      },
      "execution_count": null,
      "outputs": []
    },
    {
      "cell_type": "code",
      "source": [
        "# Ejemplo de función con parámetros y return\n",
        "def sumar(a, b):\n",
        "    \"\"\"Esta función recibe dos números y devuelve su suma.\"\"\"\n",
        "    resultado = a + b\n",
        "    return resultado\n",
        "\n",
        "# Llamar a la función y guardar el resultado\n",
        "valor_suma = sumar(5, 3)\n",
        "print(f\"El resultado de la suma es: {valor_suma}\")\n",
        "\n",
        "print(f\"También podemos imprimir directamente: {sumar(10, 20)}\")"
      ],
      "metadata": {
        "id": "2__8tZ3s08Qt"
      },
      "execution_count": null,
      "outputs": []
    },
    {
      "cell_type": "code",
      "source": [
        "def operaciones(a, b):\n",
        "    \"\"\"Esta función recibe dos números y devuelve su suma.\"\"\"\n",
        "    suma = a + b\n",
        "    resta = a-b\n",
        "    multiplicacion = a*b\n",
        "    return (suma,resta, multiplicacion)\n",
        "\n",
        "operaciones(5,4)"
      ],
      "metadata": {
        "id": "qKfe76xX1wRr"
      },
      "execution_count": null,
      "outputs": []
    },
    {
      "cell_type": "code",
      "source": [
        "# Ejercicio Práctico: Funciones\n",
        "# 1. Define una función llamada 'crear_saludo' que reciba un parámetro 'nombre' (un string).\n",
        "# 2. Dentro de la función, debe crear un string de saludo como \"¡Hola, [nombre]! Bienvenido/a.\".\n",
        "# 3. La función debe devolver (usando return) ese string de saludo.\n",
        "# 4. Llama a la función 'crear_saludo' con tu nombre y guarda el resultado en una variable.\n",
        "# 5. Imprime la variable con el saludo resultante.\n",
        "\n",
        "# Define tu función aquí\n",
        "\n",
        "\n",
        "# Llama a la función y prueba"
      ],
      "metadata": {
        "id": "lfgP8x9AGECq"
      },
      "execution_count": null,
      "outputs": []
    },
    {
      "cell_type": "markdown",
      "source": [
        "# 3. Introducción a la biblioteca Numpy\n",
        "\n",
        "Numpy (Numerical Python) es LA biblioteca fundamental para la computación numérica en Python. Su principal objeto es el `ndarray` (N-dimensional array), una estructura de datos muy eficiente para almacenar y operar con datos numéricos homogéneos (todos del mismo tipo).\n",
        "\n",
        "**Ventajas de Numpy:**\n",
        "* **Rendimiento:** Las operaciones con arrays Numpy son mucho más rápidas que con listas Python estándar, ya que muchas están implementadas en C.\n",
        "* **Eficiencia de Memoria:** Los arrays Numpy consumen menos memoria que las listas Python para almacenar la misma cantidad de datos numéricos.\n",
        "* **Funcionalidad:** Ofrece una vasta colección de funciones matemáticas y de álgebra lineal.\n",
        "* **Vectorización:** Permite realizar operaciones sobre arrays completos sin necesidad de escribir bucles `for` explícitos en Python, lo que hace el código más limpio y rápido."
      ],
      "metadata": {
        "id": "kB_EjIFoGM80"
      }
    },
    {
      "cell_type": "code",
      "source": [
        "# Importar la biblioteca Numpy\n",
        "# La convención es importarla con el alias 'np'\n",
        "import numpy as np"
      ],
      "metadata": {
        "id": "SYL6dyC9GHNM"
      },
      "execution_count": null,
      "outputs": []
    },
    {
      "cell_type": "code",
      "source": [
        "# Crear arrays Numpy desde listas Python\n",
        "\n",
        "# Array 1D (vector)\n",
        "lista_python = [1, 2, 3, 4, 5]\n",
        "array_1d = np.array(lista_python)\n",
        "print(\"Array 1D:\")\n",
        "print(array_1d)\n",
        "print(type(array_1d))\n",
        "print(f\"Tipo de datos del array: {array_1d.dtype}\") # Muestra el tipo de dato dentro del array\n",
        "\n"
      ],
      "metadata": {
        "id": "grcBqHfMGTeF"
      },
      "execution_count": null,
      "outputs": []
    },
    {
      "cell_type": "code",
      "source": [
        "# Array 2D (matriz)\n",
        "lista_anidada = [[1, 2, 3], [4, 5, 6]]\n",
        "array_2d = np.array(lista_anidada)\n",
        "print(\"\\nArray 2D:\")\n",
        "print(array_2d)\n",
        "print(f\"Tipo de datos del array: {array_2d.dtype}\")"
      ],
      "metadata": {
        "id": "HdNwwFLaH89I"
      },
      "execution_count": null,
      "outputs": []
    },
    {
      "cell_type": "code",
      "source": [
        "np.array((4,5,6))"
      ],
      "metadata": {
        "id": "0SJb1YeqIcxn"
      },
      "execution_count": null,
      "outputs": []
    },
    {
      "cell_type": "code",
      "source": [
        "# Crear arrays con funciones de Numpy\n",
        "\n",
        "# Crear un array con un rango de valores (similar a range)\n",
        "# np.arange(start, stop, step) - stop es exclusivo\n",
        "array_rango = np.arange(0, 10, 2) # 0, 2, 4, 6, 8\n",
        "print(\"\\nArray con arange:\")\n",
        "print(array_rango)\n",
        "\n"
      ],
      "metadata": {
        "id": "pm7v9pPoGVps"
      },
      "execution_count": null,
      "outputs": []
    },
    {
      "cell_type": "code",
      "source": [
        "# Crear un array con un número específico de puntos espaciados linealmente\n",
        "# np.linspace(start, stop, num_puntos) - stop es inclusivo!\n",
        "array_lineal = np.linspace(0, 1, 5) # 5 puntos entre 0 y 1 (incluidos)\n",
        "print(\"\\nArray con linspace:\")\n",
        "print(array_lineal)\n",
        "\n"
      ],
      "metadata": {
        "id": "et1YxT0NIsvF"
      },
      "execution_count": null,
      "outputs": []
    },
    {
      "cell_type": "code",
      "source": [
        "# Crear un array con valores aleatorios (entre 0 y 1)\n",
        "# np.random.rand(dimension1, dimension2, ...)\n",
        "np.random.seed(21345)\n",
        "array_aleatorio = np.random.rand(2, 3) # Matriz 2x3 con números aleatorios\n",
        "print(\"\\nArray aleatorio (2x3):\")\n",
        "print(array_aleatorio)\n",
        "\n"
      ],
      "metadata": {
        "id": "TqSAYq9EIvaV"
      },
      "execution_count": null,
      "outputs": []
    },
    {
      "cell_type": "code",
      "source": [
        "# Crear arrays de ceros o unos\n",
        "array_ceros = np.zeros((2, 4)) # Matriz 2x4 de ceros\n",
        "print(\"\\nArray de ceros (2x4):\")\n",
        "print(array_ceros)\n",
        "\n",
        "array_unos = np.ones(5) # Vector de 5 unos\n",
        "print(\"\\nArray de unos (vector):\")\n",
        "print(array_unos)"
      ],
      "metadata": {
        "id": "b428-iWWJVjE"
      },
      "execution_count": null,
      "outputs": []
    },
    {
      "cell_type": "code",
      "source": [
        "# Atributos importantes: shape y reshape\n",
        "\n",
        "print(\"\\nExplorando array_2d:\")\n",
        "print(f\"Array original:\\n{array_2d}\")\n",
        "\n",
        "# .shape: Devuelve una tupla con las dimensiones del array (filas, columnas)\n",
        "print(f\"Shape (dimensiones): {array_2d.shape}\")\n",
        "\n",
        "# .size: Devuelve el número total de elementos\n",
        "print(f\"Size (total elementos): {array_2d.size}\")\n",
        "\n",
        "# .ndim: Devuelve el número de dimensiones\n",
        "print(f\"Ndim (número de dimensiones): {array_2d.ndim}\")\n",
        "\n"
      ],
      "metadata": {
        "id": "D92R07e1GXsF"
      },
      "execution_count": null,
      "outputs": []
    },
    {
      "cell_type": "code",
      "source": [
        "# .reshape(): Cambia la forma del array sin cambiar sus datos\n",
        "# El número total de elementos debe ser el mismo\n",
        "array_largo = np.arange(12) # 0 a 11\n",
        "print(f\"\\nArray largo original (shape {array_largo.shape}):\\n{array_largo}\")\n",
        "\n",
        "array_reformado = array_largo.reshape(3, 4) # Convertir a matriz 3x4\n",
        "print(f\"\\nArray reformado (shape {array_reformado.shape}):\\n{array_reformado}\")\n"
      ],
      "metadata": {
        "id": "ixqmjfdRKEyH"
      },
      "execution_count": null,
      "outputs": []
    },
    {
      "cell_type": "code",
      "source": [
        "\n",
        "# También se puede usar -1 para que Numpy infiera una dimensión\n",
        "array_reformado_auto = array_largo.reshape(6, -1) # Infiere que necesita 2 columnas (6x2=12)\n",
        "print(f\"\\nArray reformado automáticamente (shape {array_reformado_auto.shape}):\\n{array_reformado_auto}\")"
      ],
      "metadata": {
        "id": "9iaAfc8rJ_6B"
      },
      "execution_count": null,
      "outputs": []
    },
    {
      "cell_type": "code",
      "source": [
        "array_reformado_auto.reshape(-1,1)"
      ],
      "metadata": {
        "id": "atUYVI1QLGE8"
      },
      "execution_count": null,
      "outputs": []
    },
    {
      "cell_type": "code",
      "source": [
        "# Indexación y Slicing\n",
        "\n",
        "array_test = np.arange(10, 20) # [10, 11, 12, 13, 14, 15, 16, 17, 18, 19]\n",
        "print(f\"\\nArray para slicing: {array_test}\")\n",
        "\n",
        "# Acceso a un elemento (índice 0)\n",
        "print(f\"Elemento en índice 3: {array_test[3]}\") # Devuelve 13\n"
      ],
      "metadata": {
        "id": "72U3COgeGaF9"
      },
      "execution_count": null,
      "outputs": []
    },
    {
      "cell_type": "code",
      "source": [
        "lista = list(range(10,20))\n",
        "lista[3]"
      ],
      "metadata": {
        "id": "xwtWQeGu-buZ"
      },
      "execution_count": null,
      "outputs": []
    },
    {
      "cell_type": "code",
      "source": [
        "# Slicing: array[start:stop:step]\n",
        "print(f\"Elementos del índice 2 al 5 (sin incluir 5): {array_test[2:5]}\") # [12, 13, 14]\n",
        "print(f\"Elementos desde el inicio hasta el índice 4 (sin incluir 4): {array_test[:4]}\") # [10, 11, 12, 13]\n",
        "print(f\"Elementos desde el índice 6 hasta el final: {array_test[6:]}\") # [16, 17, 18, 19]\n",
        "print(f\"Elementos con paso 2: {array_test[::2]}\") # [10, 12, 14, 16, 18]\n",
        "\n"
      ],
      "metadata": {
        "id": "YzIPOM5U9g02"
      },
      "execution_count": null,
      "outputs": []
    },
    {
      "cell_type": "code",
      "source": [
        "array_test[-5:]"
      ],
      "metadata": {
        "id": "q5sCHzC9-_ef"
      },
      "execution_count": null,
      "outputs": []
    },
    {
      "cell_type": "code",
      "source": [
        "# Indexación en arrays 2D: array[fila, columna]\n",
        "array_2d_test = np.array([[1, 2, 3], [4, 5, 6], [7, 8, 9]])\n",
        "print(f\"\\nArray 2D para slicing:\\n{array_2d_test}\")\n",
        "\n",
        "# Elemento en fila 1, columna 2\n",
        "print(f\"Elemento en [1, 2]: {array_2d_test[1, 2]}\") # Devuelve 6\n",
        "\n"
      ],
      "metadata": {
        "id": "J7ksjcwS9g6f"
      },
      "execution_count": null,
      "outputs": []
    },
    {
      "cell_type": "code",
      "source": [
        "array_2d_test[1,2]"
      ],
      "metadata": {
        "id": "Xju9VM2T_vCr"
      },
      "execution_count": null,
      "outputs": []
    },
    {
      "cell_type": "code",
      "source": [
        "# Slicing en 2D\n",
        "# Fila completa (fila 0)\n",
        "print(f\"Fila 0 completa: {array_2d_test[0, :]}\") # o array_2d_test[0]\n",
        "# Columna completa (columna 1)\n",
        "print(f\"Columna 1 completa: {array_2d_test[:, 1]}\")\n",
        "\n"
      ],
      "metadata": {
        "id": "vAQ0O2yz83rO"
      },
      "execution_count": null,
      "outputs": []
    },
    {
      "cell_type": "code",
      "source": [
        "# Submatriz (filas 0 y 1, columnas 1 y 2)\n",
        "print(f\"Submatriz [0:2, 1:3]:\\n{array_2d_test[0:2, 1:3]}\")"
      ],
      "metadata": {
        "id": "99colnz996yQ"
      },
      "execution_count": null,
      "outputs": []
    },
    {
      "cell_type": "code",
      "source": [
        "# Operaciones Vectorizadas\n",
        "\n",
        "arr1 = np.array([1, 2, 3])\n",
        "arr2 = np.array([10, 20, 30])\n",
        "escalar = 5"
      ],
      "metadata": {
        "id": "TMlPjFgyGcNc"
      },
      "execution_count": null,
      "outputs": []
    },
    {
      "cell_type": "code",
      "source": [
        "# Sumar un escalar a cada elemento\n",
        "suma_escalar = arr1 + escalar\n",
        "print(f\"\\nSuma con escalar: {arr1} + {escalar} = {suma_escalar}\")"
      ],
      "metadata": {
        "id": "fucTG3AyAkJP"
      },
      "execution_count": null,
      "outputs": []
    },
    {
      "cell_type": "code",
      "source": [
        "# Multiplicar elemento a elemento dos arrays (deben tener la misma forma)\n",
        "mult_elementos = arr1 * arr2\n",
        "print(f\"Multiplicación elemento a elemento: {arr1} * {arr2} = {mult_elementos}\")\n"
      ],
      "metadata": {
        "id": "NmWm81qKAhEn"
      },
      "execution_count": null,
      "outputs": []
    },
    {
      "cell_type": "code",
      "source": [
        "# Comparación vectorizada\n",
        "comparacion = arr1 > 1\n",
        "print(f\"Comparación vectorizada: {arr1} > 1 = {comparacion}\") # Devuelve un array booleano\n",
        "\n"
      ],
      "metadata": {
        "id": "qz3E3szuAnFQ"
      },
      "execution_count": null,
      "outputs": []
    },
    {
      "cell_type": "code",
      "source": [
        "# Comparación con listas Python (más verboso y lento para arrays grandes)\n",
        "lista1 = [1, 2, 3]\n",
        "lista_suma_escalar = []\n",
        "for x in lista1:\n",
        "    lista_suma_escalar.append(x + escalar)\n",
        "print(f\"\\nSuma con escalar (lista Python): {lista_suma_escalar}\")\n",
        "# ¡Numpy es mucho más conciso y rápido para esto!"
      ],
      "metadata": {
        "id": "8m4qqrp2ApyX"
      },
      "execution_count": null,
      "outputs": []
    },
    {
      "cell_type": "markdown",
      "source": [
        "### Funciones matemáticas y estadísticas básicas"
      ],
      "metadata": {
        "id": "o49VohwXDPA2"
      }
    },
    {
      "cell_type": "code",
      "source": [
        "arr_grande = np.random.rand(10) * 100 # 10 números aleatorios entre 0 y 100\n",
        "print(f\"Array para funciones estadísticas:\\n{arr_grande}\")"
      ],
      "metadata": {
        "id": "NwEEqoi0GfR8"
      },
      "execution_count": null,
      "outputs": []
    },
    {
      "cell_type": "code",
      "source": [
        "# Suma de todos los elementos\n",
        "np.sum(arr_grande)\n"
      ],
      "metadata": {
        "id": "pAawPjPADfFb"
      },
      "execution_count": null,
      "outputs": []
    },
    {
      "cell_type": "code",
      "source": [
        "arr_grande.sum()"
      ],
      "metadata": {
        "id": "yTf1opWKGF4B"
      },
      "execution_count": null,
      "outputs": []
    },
    {
      "cell_type": "code",
      "source": [
        "# Media (promedio)\n",
        "np.mean(arr_grande)\n",
        "arr_grande.mean()"
      ],
      "metadata": {
        "id": "iyx8iG8pDlLk"
      },
      "execution_count": null,
      "outputs": []
    },
    {
      "cell_type": "code",
      "source": [
        "# Desviación estándar\n",
        "np.std(arr_grande)\n"
      ],
      "metadata": {
        "id": "I2OFKd7SD2XT"
      },
      "execution_count": null,
      "outputs": []
    },
    {
      "cell_type": "code",
      "source": [
        "# Máximo y Mínimo\n",
        "maximo = np.max(arr_grande) # o arr_grande.max()\n",
        "minimo = np.min(arr_grande) # o arr_grande.min()\n",
        "print(f\"Máximo: {maximo}, Mínimo: {minimo}\")"
      ],
      "metadata": {
        "id": "7RbnP3vJDzwx"
      },
      "execution_count": null,
      "outputs": []
    },
    {
      "cell_type": "code",
      "source": [
        "# Funciones en arrays 2D\n",
        "arr_2d_stats = np.array([[1, 5, 3], [9, 2, 7]])\n",
        "print(f\"\\nArray 2D para stats:\\n{arr_2d_stats}\")\n"
      ],
      "metadata": {
        "id": "b4BluXwjD3ja"
      },
      "execution_count": null,
      "outputs": []
    },
    {
      "cell_type": "code",
      "source": [
        "# Suma total\n",
        "np.sum(arr_2d_stats)\n",
        "\n"
      ],
      "metadata": {
        "id": "xy0iAR1HEICJ"
      },
      "execution_count": null,
      "outputs": []
    },
    {
      "cell_type": "code",
      "source": [
        "# Suma por columnas (axis=0)\n",
        "print(f\"Suma por columnas (axis=0): {np.sum(arr_2d_stats, axis=0)}\")"
      ],
      "metadata": {
        "id": "SBfiKcviENYg"
      },
      "execution_count": null,
      "outputs": []
    },
    {
      "cell_type": "code",
      "source": [
        "# Suma por filas (axis=1)\n",
        "print(f\"Suma por filas (axis=1): {np.sum(arr_2d_stats, axis=1)}\")"
      ],
      "metadata": {
        "id": "eRGTbTc3EQLR"
      },
      "execution_count": null,
      "outputs": []
    },
    {
      "cell_type": "code",
      "source": [
        "arr_2d_stats.mean(axis = 0)"
      ],
      "metadata": {
        "id": "nmJhgo2CHT_b"
      },
      "execution_count": null,
      "outputs": []
    },
    {
      "cell_type": "code",
      "source": [
        "# Traspuesta de una matriz\n",
        "arr_2d_stats.T\n",
        "np.transpose(arr_2d_stats)"
      ],
      "metadata": {
        "id": "CnrziHDTHb9y"
      },
      "execution_count": null,
      "outputs": []
    },
    {
      "cell_type": "code",
      "source": [
        "# Multiplicaciones de matrices\n",
        "\n",
        "matriz1 = np.array([[1, 2], [3, 4]])\n",
        "matriz2 = np.array([[5, 6], [7, 8]])\n",
        "\n",
        "np.dot(matriz1,matriz2)\n"
      ],
      "metadata": {
        "id": "foFnrq8DHwTJ"
      },
      "execution_count": null,
      "outputs": []
    },
    {
      "cell_type": "code",
      "source": [
        "matriz1 @ matriz2"
      ],
      "metadata": {
        "id": "lNohg0hTH97S"
      },
      "execution_count": null,
      "outputs": []
    },
    {
      "cell_type": "code",
      "source": [
        "matriz1 * matriz2"
      ],
      "metadata": {
        "id": "U1620utlIEyx"
      },
      "execution_count": null,
      "outputs": []
    },
    {
      "cell_type": "code",
      "source": [
        "# Ejercicio Práctico 1: Crear Arrays Numpy\n",
        "# 1. Crea un array Numpy llamado 'vector_pares' que contenga los números pares del 2 al 20 (incluido) usando `np.arange()`.\n",
        "# 2. Crea un array Numpy llamado 'vector_espaciado' que contenga 6 puntos linealmente espaciados entre 0 y 10 (ambos incluidos) usando `np.linspace()`.\n",
        "# 3. Imprime ambos vectores."
      ],
      "metadata": {
        "id": "Y6n1EcY3GhRc"
      },
      "execution_count": null,
      "outputs": []
    },
    {
      "cell_type": "code",
      "source": [
        "# Ejercicio Práctico 2: Operaciones y Estadísticas Numpy\n",
        "# 1. Crea una matriz Numpy 'matriz_aleatoria' de 4x3 (4 filas, 3 columnas) con números enteros aleatorios entre 1 y 100.\n",
        "#    (Pista: puedes usar `np.random.randint(low, high, size=(rows, cols))`).\n",
        "# 2. Imprime la matriz.\n",
        "# 3. Calcula e imprime la media de *toda* la matriz.\n",
        "# 4. Calcula e imprime la media de *cada columna* por separado (usando el argumento axis).\n"
      ],
      "metadata": {
        "id": "g4oDODs-GjuN"
      },
      "execution_count": null,
      "outputs": []
    },
    {
      "cell_type": "markdown",
      "source": [
        "# 4. Introducción a la biblioteca Pandas\n",
        "Pandas es la biblioteca **esencial** para la manipulación y análisis de datos en Python. Proporciona estructuras de datos de alto rendimiento y fáciles de usar, así como herramientas para leer/escribir datos, limpiarlos, transformarlos, fusionarlos y analizarlos.\n",
        "\n",
        "**Estructuras de Datos Clave de Pandas:**\n",
        "\n",
        "1.  **`Series`**: Es un array unidimensional etiquetado (similar a una columna en una tabla o una lista con índices personalizados). Puede contener datos de cualquier tipo.\n",
        "2.  **`DataFrame`**: Es una estructura de datos tabular bidimensional (como una hoja de cálculo o una tabla SQL) con columnas de tipos potencialmente diferentes. Es la estructura de datos más utilizada en Pandas. Puedes pensar en un DataFrame como una colección de Series que comparten el mismo índice.\n",
        "\n",
        "Pandas se construye sobre Numpy, por lo que muchas de las operaciones eficientes de Numpy se trasladan a Pandas."
      ],
      "metadata": {
        "id": "k8lHW1jEGm6d"
      }
    },
    {
      "cell_type": "code",
      "source": [
        "# Importar la biblioteca Pandas\n",
        "# La convención es importarla con el alias 'pd'\n",
        "import pandas as pd"
      ],
      "metadata": {
        "id": "09Yn_hkxGlTl"
      },
      "execution_count": null,
      "outputs": []
    },
    {
      "cell_type": "code",
      "source": [
        "# Cargar datos en un DataFrame\n",
        "# Pandas puede leer datos de muchos formatos (CSV, Excel, JSON, SQL, etc.)\n",
        "# Google Colab incluye algunos datasets de ejemplo. Usaremos uno de ellos.\n",
        "\n",
        "# La ruta 'sample_data/california_housing_train.csv' es estándar en Colab.\n",
        "ruta_archivo = 'sample_data/california_housing_train.csv'\n",
        "df = pd.read_csv(ruta_archivo)\n",
        "\n",
        "# Nota: Para leer archivos Excel (.xlsx), usarías:\n",
        "# df_excel = pd.read_excel('tu_archivo.xlsx')\n",
        "# Si tienes un archivo Excel en tu Google Drive, necesitarías montar Drive primero."
      ],
      "metadata": {
        "id": "AEJunu_5Gpzl"
      },
      "execution_count": null,
      "outputs": []
    },
    {
      "cell_type": "markdown",
      "source": [
        "Una vez cargado el dataset en un DataFrame (que hemos llamado `df`), el primer paso es siempre explorarlo para entender su estructura y contenido."
      ],
      "metadata": {
        "id": "XGUoJO-qHSP_"
      }
    },
    {
      "cell_type": "code",
      "source": [
        "# Exploración básica del DataFrame\n",
        "\n",
        "# .head(n): Muestra las primeras 'n' filas (por defecto 5). Muy útil para ver cómo son los datos.\n",
        "print(\"Primeras 5 filas (head):\")\n",
        "df.head(10)\n"
      ],
      "metadata": {
        "id": "ZZ4frVebGrXt"
      },
      "execution_count": null,
      "outputs": []
    },
    {
      "cell_type": "code",
      "source": [
        "# .tail(n): Muestra las últimas 'n' filas (por defecto 5). Útil para ver el final del dataset.\n",
        "print(\"\\nÚltimas 3 filas (tail):\")\n",
        "df.tail(3)\n",
        "\n"
      ],
      "metadata": {
        "id": "Xxg-MF9IP02R"
      },
      "execution_count": null,
      "outputs": []
    },
    {
      "cell_type": "code",
      "source": [
        "# .info(): Proporciona un resumen conciso del DataFrame:\n",
        "# - Número de filas y columnas.\n",
        "# - Nombre y tipo de dato (Dtype) de cada columna.\n",
        "# - Número de valores no nulos en cada columna (¡importante para detectar datos faltantes!).\n",
        "# - Uso de memoria.\n",
        "print(\"\\nInformación general (info):\")\n",
        "df.info()\n"
      ],
      "metadata": {
        "id": "pmIgnX0xP0_d"
      },
      "execution_count": null,
      "outputs": []
    },
    {
      "cell_type": "code",
      "source": [
        "# .describe(): Genera estadísticas descriptivas para las columnas numéricas:\n",
        "\n",
        "print(\"\\nEstadísticas descriptivas (describe):\")\n",
        "df.describe()\n",
        "\n"
      ],
      "metadata": {
        "id": "nd5A5ABYP89v"
      },
      "execution_count": null,
      "outputs": []
    },
    {
      "cell_type": "code",
      "source": [
        "# .shape: Devuelve una tupla con las dimensiones (número de filas, número de columnas).\n",
        "print(f\"\\nDimensiones del DataFrame (shape): {df.shape}\")\n",
        "print(f\"El DataFrame tiene {df.shape[0]} filas y {df.shape[1]} columnas.\")\n"
      ],
      "metadata": {
        "id": "MBeO64xmQA5e"
      },
      "execution_count": null,
      "outputs": []
    },
    {
      "cell_type": "code",
      "source": [
        "# .columns: Devuelve un objeto Index con los nombres de todas las columnas.\n",
        "print(\"\\nNombres de las columnas (columns):\")\n",
        "df.columns\n",
        "# Podemos convertirlo a lista si es necesario: list(df.columns)"
      ],
      "metadata": {
        "id": "4iJ8tuC1QEIm"
      },
      "execution_count": null,
      "outputs": []
    },
    {
      "cell_type": "code",
      "source": [
        "list(df.columns)"
      ],
      "metadata": {
        "id": "anWHrx7wRfaa"
      },
      "execution_count": null,
      "outputs": []
    },
    {
      "cell_type": "markdown",
      "source": [
        "## Selección de Datos en Pandas\n",
        "\n",
        "Seleccionar subconjuntos específicos de datos (filas, columnas o ambas) es una tarea fundamental. Pandas ofrece varias formas de hacerlo."
      ],
      "metadata": {
        "id": "LlrCQzhiHZWH"
      }
    },
    {
      "cell_type": "code",
      "source": [
        "# Selección de Columnas\n",
        "\n",
        "# Seleccionar UNA columna (devuelve una Serie de Pandas)\n",
        "# Usa corchetes simples [] con el nombre de la columna\n",
        "columna_poblacion = df['population']\n",
        "print(\"\\nSelección de UNA columna ('population' - tipo Series):\")\n",
        "columna_poblacion.head()\n",
        "print(type(columna_poblacion))\n",
        "\n"
      ],
      "metadata": {
        "id": "G9CLnWa4HcV-"
      },
      "execution_count": null,
      "outputs": []
    },
    {
      "cell_type": "code",
      "source": [
        "# Seleccionar MÚLTIPLES columnas (devuelve un DataFrame)\n",
        "# Usa dobles corchetes [[]] con una lista de nombres de columnas\n",
        "columnas_seleccionadas = df[['latitude', 'longitude', 'median_house_value']]\n",
        "print(\"\\nSelección de MÚLTIPLES columnas (tipo DataFrame):\")\n",
        "columnas_seleccionadas.head()\n"
      ],
      "metadata": {
        "id": "RAaoFtK0Uvo0"
      },
      "execution_count": null,
      "outputs": []
    },
    {
      "cell_type": "markdown",
      "source": [
        "### Selección basada en etiquetas (`.loc`)\n",
        "\n",
        "`.loc[]` se utiliza para seleccionar datos por sus **nombres de etiqueta** (índices de fila y nombres de columna). Es la forma preferida cuando trabajas con etiquetas.\n",
        "\n",
        "Sintaxis: `df.loc[etiquetas_filas, etiquetas_columnas]`\n",
        "\n",
        "* `etiquetas_filas`: Puede ser una etiqueta única, una lista de etiquetas, un slice de etiquetas (`'a':'f'`), o una condición booleana. `:` selecciona todas las filas.\n",
        "* `etiquetas_columnas`: Puede ser un nombre de columna único, una lista de nombres, un slice de nombres, o una condición booleana. `:` selecciona todas las columnas."
      ],
      "metadata": {
        "id": "rG6ZGSp-HiL4"
      }
    },
    {
      "cell_type": "code",
      "source": [
        "# Selección con .loc\n",
        "\n",
        "# Por defecto, si no hemos definido un índice específico, Pandas usa enteros (0, 1, 2...) como etiquetas de fila.\n",
        "\n",
        "# Seleccionar una fila por su etiqueta de índice (fila con índice 3)\n",
        "fila_3 = df.loc[3]\n",
        "print(\"\\nSelección de Fila con índice 3 (.loc[3]):\")\n",
        "fila_3 # Devuelve una Serie\n"
      ],
      "metadata": {
        "id": "w9nj0fKEHfpx"
      },
      "execution_count": null,
      "outputs": []
    },
    {
      "cell_type": "code",
      "source": [
        "# Seleccionar múltiples filas por sus etiquetas de índice (filas 0, 5, 10)\n",
        "filas_multiples = df.loc[[0, 5, 10]]\n",
        "print(\"\\nSelección de Múltiples Filas (.loc[[0, 5, 10]]):\")\n",
        "filas_multiples # Devuelve un DataFrame\n"
      ],
      "metadata": {
        "id": "Jh4fPpNBV5W9"
      },
      "execution_count": null,
      "outputs": []
    },
    {
      "cell_type": "code",
      "source": [
        "# Seleccionar un rango de filas por etiqueta (filas 2 a 5, INCLUYENDO la 5)\n",
        "rango_filas = df.loc[2:5] # ¡OJO! a diferencia del slicing normal, .loc incluye el final\n",
        "print(\"\\nSelección de Rango de Filas (.loc[2:5]):\")\n",
        "rango_filas\n",
        "\n"
      ],
      "metadata": {
        "id": "9HkFWpWyWA1t"
      },
      "execution_count": null,
      "outputs": []
    },
    {
      "cell_type": "code",
      "source": [
        "# Seleccionar filas Y columnas específicas\n",
        "# Fila 3, columnas 'population' y 'median_income'\n",
        "valor_especifico = df.loc[3, ['population', 'median_income']]\n",
        "print(\"\\nSelección Fila 3, Columnas específicas (.loc):\")\n",
        "valor_especifico\n",
        "\n"
      ],
      "metadata": {
        "id": "ey4z259OWfxC"
      },
      "execution_count": null,
      "outputs": []
    },
    {
      "cell_type": "code",
      "source": [
        "# Todas las filas, columnas específicas\n",
        "columnas_loc = df.loc[:, ['latitude', 'total_rooms']]\n",
        "print(\"\\nSelección Todas las Filas, Columnas específicas (.loc):\")\n",
        "columnas_loc.head()\n",
        "\n"
      ],
      "metadata": {
        "id": "OEZWFF6RWuDr"
      },
      "execution_count": null,
      "outputs": []
    },
    {
      "cell_type": "code",
      "source": [
        "df['median_income'] > 10"
      ],
      "metadata": {
        "id": "2mox3giJXXO3"
      },
      "execution_count": null,
      "outputs": []
    },
    {
      "cell_type": "code",
      "source": [
        "# Selección basada en condición booleana (¡MUY potente!)\n",
        "# Seleccionar todas las filas donde 'median_income' sea mayor que 10\n",
        "ingresos_altos = df.loc[df['median_income'] > 10]\n",
        "\n",
        "ingresos_altos.head()\n"
      ],
      "metadata": {
        "id": "L8FtO6vcWvgA"
      },
      "execution_count": null,
      "outputs": []
    },
    {
      "cell_type": "code",
      "source": [
        "print(f\"Número de filas con ingresos altos: {ingresos_altos.shape[0]}\")"
      ],
      "metadata": {
        "id": "lGC_-HIZXkvW"
      },
      "execution_count": null,
      "outputs": []
    },
    {
      "cell_type": "markdown",
      "source": [
        "### Selección basada en posición (`.iloc`)\n",
        "\n",
        "`.iloc[]` se utiliza para seleccionar datos por su **posición entera** (índice numérico basado en 0), similar a como se hace en listas Python o arrays Numpy. Ignora las etiquetas de índice/columna.\n",
        "\n",
        "Sintaxis: `df.iloc[posiciones_filas, posiciones_columnas]`\n",
        "\n",
        "* `posiciones_filas`: Puede ser un entero único, una lista de enteros, un slice de enteros (`0:5`). `:` selecciona todas las filas.\n",
        "* `posiciones_columnas`: Puede ser un entero único, una lista de enteros, un slice de enteros. `:` selecciona todas las columnas."
      ],
      "metadata": {
        "id": "Ms3PBaJ7HmdY"
      }
    },
    {
      "cell_type": "code",
      "source": [
        "# Selección con .iloc\n",
        "\n",
        "# Seleccionar la PRIMERA fila (posición 0)\n",
        "primera_fila = df.iloc[0]\n",
        "\n",
        "primera_fila # Devuelve una Serie\n",
        "\n"
      ],
      "metadata": {
        "id": "U-AjOkTeHj84"
      },
      "execution_count": null,
      "outputs": []
    },
    {
      "cell_type": "code",
      "source": [
        "# Seleccionar las primeras 5 filas (posiciones 0 a 4)\n",
        "primeras_5_filas = df.iloc[0:5] # El slicing aquí SÍ excluye el final (como en Python/Numpy)\n",
        "primeras_5_filas\n",
        "\n"
      ],
      "metadata": {
        "id": "8ZAO565cYU3s"
      },
      "execution_count": null,
      "outputs": []
    },
    {
      "cell_type": "code",
      "source": [
        "# Seleccionar filas Y columnas específicas por posición\n",
        "# Fila en posición 3, Columna en posición 2 (total_rooms)\n",
        "valor_iloc = df.iloc[3, 2]\n",
        "valor_iloc\n"
      ],
      "metadata": {
        "id": "sfQg8K49YV1t"
      },
      "execution_count": null,
      "outputs": []
    },
    {
      "cell_type": "code",
      "source": [
        "# Filas en posiciones 0 a 2 (excluye 2), Columnas en posiciones 1 a 4 (excluye 4)\n",
        "sub_df_iloc = df.iloc[0:2, 1:4]\n",
        "sub_df_iloc\n"
      ],
      "metadata": {
        "id": "v-EGsS6TYePT"
      },
      "execution_count": null,
      "outputs": []
    },
    {
      "cell_type": "code",
      "source": [
        "# Todas las filas, últimas 3 columnas\n",
        "ultimas_columnas = df.iloc[:, -3:] # Índices negativos funcionan como en Python\n",
        "ultimas_columnas.head()"
      ],
      "metadata": {
        "id": "KvOWCAuNYe9a"
      },
      "execution_count": null,
      "outputs": []
    },
    {
      "cell_type": "markdown",
      "source": [
        "### Filtrado Booleano (Forma Corta)\n",
        "\n",
        "Aunque puedes usar `.loc` con condiciones booleanas (como `df.loc[df['columna'] > valor]`), Pandas también permite una sintaxis más corta y común para filtrar filas basadas en condiciones: `df[condicion]`"
      ],
      "metadata": {
        "id": "v1kdw-3KHqKI"
      }
    },
    {
      "cell_type": "code",
      "source": [
        "# Filtrado Booleano (Sintaxis Corta)\n",
        "\n",
        "# Seleccionar filas donde 'population' sea mayor que 3000\n",
        "pop_alta = df[df['population'] > 3000]\n",
        "pop_alta.head()\n"
      ],
      "metadata": {
        "id": "wifY8liwHoQ3"
      },
      "execution_count": null,
      "outputs": []
    },
    {
      "cell_type": "code",
      "source": [
        "df.population"
      ],
      "metadata": {
        "id": "AqUTLZyTc8xw"
      },
      "execution_count": null,
      "outputs": []
    },
    {
      "cell_type": "code",
      "source": [
        "print(f\"Número de filas con población alta: {pop_alta.shape[0]}\")"
      ],
      "metadata": {
        "id": "qXoqb5_wc2uZ"
      },
      "execution_count": null,
      "outputs": []
    },
    {
      "cell_type": "code",
      "source": [
        "# Combinar múltiples condiciones:\n",
        "# & : AND lógico (ambas condiciones deben ser True)\n",
        "# | : OR lógico (al menos una condición debe ser True)\n",
        "# ~ : NOT lógico (niega la condición)\n",
        "# ¡IMPORTANTE!: Envuelve cada condición individual entre paréntesis ()\n",
        "\n",
        "# Filas donde 'median_income' > 5 Y 'housing_median_age' < 20\n",
        "condicion_combinada = df[(df['median_income'] > 5) & (df['housing_median_age'] < 20)]\n",
        "condicion_combinada.head()\n"
      ],
      "metadata": {
        "id": "Df_91HWpcq_C"
      },
      "execution_count": null,
      "outputs": []
    },
    {
      "cell_type": "code",
      "source": [
        "# Seleccionar datos con .query()\n",
        "\n",
        "df.query(\"median_income > 5 and housing_median_age < 20\").head()"
      ],
      "metadata": {
        "id": "nJx60LMwdpv3"
      },
      "execution_count": null,
      "outputs": []
    },
    {
      "cell_type": "markdown",
      "source": [
        "## Agrupamiento de Datos (`.groupby()`)\n",
        "\n",
        "Es una operación extremadamente útil para dividir el DataFrame en grupos basados en los valores de una o más columnas y luego aplicar una función de agregación (como `sum`, `mean`, `size`, `count`, `median`, etc.) a cada grupo.\n",
        "\n",
        "El proceso es: **Split -> Apply -> Combine**\n",
        "1.  **Split:** Divide el DataFrame en grupos según los valores de la columna(s) especificada(s).\n",
        "2.  **Apply:** Aplica una función a cada grupo independientemente.\n",
        "3.  **Combine:** Combina los resultados en una nueva estructura de datos (normalmente una Serie o DataFrame)."
      ],
      "metadata": {
        "id": "EfT6Fgh6HwBJ"
      }
    },
    {
      "cell_type": "code",
      "source": [
        "# Agrupamiento con .groupby()\n",
        "\n",
        "# Agrupar por la columna 'hosuing_median_age' y contar cuántas filas hay en cada grupo\n",
        "conteo_por_age = df.groupby('housing_median_age').size()\n",
        "conteo_por_age.head()\n",
        "\n",
        "\n"
      ],
      "metadata": {
        "id": "8_D87TB1HsYZ"
      },
      "execution_count": null,
      "outputs": []
    },
    {
      "cell_type": "code",
      "source": [
        "# Agrupar por 'hosuing_median_age' y calcular la media de 'median_house_value' para cada grupo\n",
        "media_valor = df.groupby('housing_median_age')['median_house_value'].mean()\n",
        "\n",
        "media_valor\n",
        "\n"
      ],
      "metadata": {
        "id": "fgBKgcaQeKGE"
      },
      "execution_count": null,
      "outputs": []
    },
    {
      "cell_type": "code",
      "source": [
        "# Agrupar por 'ocean_proximity' y calcular múltiples agregaciones\n",
        "# Usamos el método .agg() que permite pasar un diccionario o lista de funciones\n",
        "agregaciones = df.groupby('housing_median_age').agg(\n",
        "    media_ingresos=('median_income', 'mean'), # ('nombre_nueva_columna', 'funcion_agregacion')\n",
        "    mediana_poblacion=('population', 'median'),\n",
        "    total_habitaciones=('total_rooms', 'sum'),\n",
        "    numero_distritos=('longitude', 'count') # Contar cualquier columna no nula sirve\n",
        ")\n",
        "\n",
        "agregaciones\n"
      ],
      "metadata": {
        "id": "PjzPJuoFeNRZ"
      },
      "execution_count": null,
      "outputs": []
    },
    {
      "cell_type": "code",
      "source": [
        "# Agrupación por una columna externa\n",
        "\n",
        "df.groupby(df.median_house_value > 15000).size()"
      ],
      "metadata": {
        "id": "AUTsgTGCfxmx"
      },
      "execution_count": null,
      "outputs": []
    },
    {
      "cell_type": "markdown",
      "source": [
        "## Creación de data frames\n",
        "\n",
        "Tambien se pueden convertir valores que tenemos en listas, arrays o diccionarios a DataFrames de pandas con `pd.DataFrame`\n",
        "\n"
      ],
      "metadata": {
        "id": "YINcg3KuLaoc"
      }
    },
    {
      "cell_type": "code",
      "source": [
        "# Creamos un diccionario\n",
        "data_ejemplo = {'col1': [1, 2, np.nan, 4, 2, 6, np.nan],\n",
        "                'col2': ['a', 'b', 'c', 'd', 'b', 'f', 'c'],\n",
        "                'col3': [10, 20, 30, 40, 20, 60, 30]}\n",
        "data_ejemplo"
      ],
      "metadata": {
        "id": "N69mBgRbL0UU"
      },
      "execution_count": null,
      "outputs": []
    },
    {
      "cell_type": "code",
      "source": [
        "# Lo convertimos en dataframe\n",
        "\n",
        "df_ejemplo = pd.DataFrame(data_ejemplo)\n",
        "df_ejemplo"
      ],
      "metadata": {
        "id": "GTIx53UZMDx8"
      },
      "execution_count": null,
      "outputs": []
    },
    {
      "cell_type": "markdown",
      "source": [
        "## Manejo Básico de Valores Nulos (NaN)\n",
        "\n",
        "Los datos del mundo real a menudo están incompletos, es decir, contienen valores faltantes o nulos (representados en Pandas/Numpy como `NaN`, Not a Number).\n",
        "\n",
        "Es crucial identificar y decidir cómo tratar estos valores."
      ],
      "metadata": {
        "id": "y2X8261bH2Lw"
      }
    },
    {
      "cell_type": "code",
      "source": [
        "# Detección de Valores Nulos\n",
        "\n",
        "# .isnull() devuelve un DataFrame booleano del mismo tamaño,\n",
        "# con True donde hay un NaN y False donde hay un valor.\n",
        "\n",
        "df_ejemplo.isnull()\n"
      ],
      "metadata": {
        "id": "6ZnnHYsdHykA"
      },
      "execution_count": null,
      "outputs": []
    },
    {
      "cell_type": "code",
      "source": [
        "# Es más útil sumar los True por columna para saber cuántos NaN hay en cada una.\n",
        "# True se trata como 1 y False como 0 en la suma.\n",
        "conteo_nulos_por_columna = df_ejemplo.isnull().sum()\n",
        "print(\"\\nConteo de valores nulos por columna (.isnull().sum()):\")\n",
        "print(conteo_nulos_por_columna)\n",
        "# En este dataset de ejemplo parece que no hay valores nulos. ¡Eso es raro en la práctica!\n"
      ],
      "metadata": {
        "id": "MObbduvmGwFN"
      },
      "execution_count": null,
      "outputs": []
    },
    {
      "cell_type": "code",
      "source": [
        "df_ejemplo[df_ejemplo.isnull().col1]"
      ],
      "metadata": {
        "id": "iWg0UlqoHU6r"
      },
      "execution_count": null,
      "outputs": []
    },
    {
      "cell_type": "markdown",
      "source": [
        "### Eliminación de Valores Nulos (`.dropna()`)\n",
        "\n",
        "Una estrategia simple es eliminar las filas (o columnas) que contienen valores nulos.\n",
        "\n",
        "**¡Precaución!** Eliminar filas puede llevar a una pérdida significativa de datos, especialmente si muchos valores faltan en diferentes filas. Úsalo con cuidado."
      ],
      "metadata": {
        "id": "RrMIrnBYH6PA"
      }
    },
    {
      "cell_type": "code",
      "source": [
        "# Eliminar filas con al menos un valor nulo\n",
        "df_sin_nulos = df_ejemplo.dropna() # Por defecto, elimina filas (axis=0)\n",
        "df_sin_nulos"
      ],
      "metadata": {
        "id": "Z5YL0RbKH4cQ"
      },
      "execution_count": null,
      "outputs": []
    },
    {
      "cell_type": "code",
      "source": [
        "# Si quisiéramos eliminar COLUMNAS con al menos un valor nulo:\n",
        "df_sin_nulos_cols = df_ejemplo.dropna(axis=1)\n",
        "df_sin_nulos_cols\n"
      ],
      "metadata": {
        "id": "HkXFABY3H35-"
      },
      "execution_count": null,
      "outputs": []
    },
    {
      "cell_type": "markdown",
      "source": [
        "Otras estrategias (más avanzadas, no cubiertas hoy en detalle) incluyen la **imputación**: rellenar los valores nulos con un valor estimado (como la media, mediana, moda de la columna, o usando modelos más complejos). Pandas tiene el método `.fillna()` para esto."
      ],
      "metadata": {
        "id": "dZvrkgn2IBEq"
      }
    },
    {
      "cell_type": "markdown",
      "source": [
        "## Manejo Básico de Duplicados\n",
        "\n",
        "A veces, los datasets pueden contener filas duplicadas (registros idénticos). Es importante detectarlas y, a menudo, eliminarlas."
      ],
      "metadata": {
        "id": "dodKo13dIDzJ"
      }
    },
    {
      "cell_type": "code",
      "source": [
        "# Podemos agregar filas y columnas en los dataframe\n",
        "\n",
        "df_ejemplo.loc[7,:] = df_ejemplo.iloc[5]\n",
        "df_ejemplo"
      ],
      "metadata": {
        "id": "pKzEBQfWM6a6"
      },
      "execution_count": null,
      "outputs": []
    },
    {
      "cell_type": "code",
      "source": [
        "# Detección de Filas Duplicadas\n",
        "\n",
        "# .duplicated() devuelve una Serie booleana indicando si cada fila es un duplicado\n",
        "# de una fila *anterior*. La primera aparición no se marca como duplicada.\n",
        "duplicados = df_ejemplo.duplicated()\n",
        "\n",
        "duplicados\n"
      ],
      "metadata": {
        "id": "dHPkesBbH_XJ"
      },
      "execution_count": null,
      "outputs": []
    },
    {
      "cell_type": "code",
      "source": [
        "# Contar el número total de filas duplicadas\n",
        "numero_duplicados = df_ejemplo.duplicated().sum()\n",
        "print(f\"\\nNúmero total de filas duplicadas: {numero_duplicados}\")\n"
      ],
      "metadata": {
        "id": "JuTCv2fcIaw8"
      },
      "execution_count": null,
      "outputs": []
    },
    {
      "cell_type": "markdown",
      "source": [
        "### Eliminación de Filas Duplicadas (`.drop_duplicates()`)\n",
        "\n",
        "Elimina las filas duplicadas. Por defecto, mantiene la primera aparición y elimina las siguientes."
      ],
      "metadata": {
        "id": "_lFu_WYBIQHT"
      }
    },
    {
      "cell_type": "code",
      "source": [
        "# Eliminar filas duplicadas\n",
        "df_sin_duplicados = df_ejemplo.drop_duplicates()\n",
        "df_sin_duplicados"
      ],
      "metadata": {
        "id": "-2GvAo3OIF5J"
      },
      "execution_count": null,
      "outputs": []
    },
    {
      "cell_type": "code",
      "source": [
        "# Ejercicio Práctico 1: Selección y Filtrado con Pandas\n",
        "# Usando el DataFrame 'df':\n",
        "# 1. Selecciona y muestra las filas donde 'housing_median_age' sea mayor que 40\n",
        "#    Y ('&') 'total_rooms' sea menor que 1000. Usa el método de filtrado booleano corto.\n",
        "# 2. Usando `.loc`, selecciona las filas con índice (etiqueta) del 100 al 105 (inclusive),\n",
        "#    pero solo muestra las columnas 'latitude', 'longitude', y 'median_house_value'."
      ],
      "metadata": {
        "id": "sFw4DJ-SIS1y"
      },
      "execution_count": null,
      "outputs": []
    },
    {
      "cell_type": "code",
      "source": [
        "# Ejercicio Práctico 2: Agrupamiento con Pandas\n",
        "# Usando el DataFrame 'df':\n",
        "# 1. Agrupa los datos por la columna 'ocean_proximity'.\n",
        "# 2. Para cada grupo ('ocean_proximity'), calcula la *mediana* del valor de 'median_house_value'.\n",
        "# 3. Imprime el resultado (que debería ser una Serie de Pandas).\n",
        "#    (Pista: después de .groupby(...), selecciona la columna y aplica .median())."
      ],
      "metadata": {
        "id": "cFatbAsmIVmR"
      },
      "execution_count": null,
      "outputs": []
    },
    {
      "cell_type": "markdown",
      "source": [
        "# 5. Visualización de datos con Matplotlib y Seaborn\n",
        "\n",
        "\"Una imagen vale más que mil palabras\" (o mil filas de datos). La visualización de datos es crucial en la Ciencia de Datos para:\n",
        "\n",
        "* **Explorar:** Entender patrones, tendencias, distribuciones y relaciones en los datos.\n",
        "* **Comunicar:** Presentar hallazgos de forma clara y efectiva a otros.\n",
        "* **Detectar:** Identificar valores atípicos (outliers) o problemas en los datos.\n",
        "\n",
        "Usaremos dos bibliotecas populares:\n",
        "\n",
        "1.  **Matplotlib:** Es la biblioteca de visualización fundamental en Python. Ofrece un control muy detallado sobre cada aspecto del gráfico, pero puede ser un poco verbosa para gráficos complejos.\n",
        "2.  **Seaborn:** Construida sobre Matplotlib, proporciona una interfaz de más alto nivel con estilos predeterminados más atractivos y funciones específicas para crear gráficos estadísticos informativos con menos código."
      ],
      "metadata": {
        "id": "Rh4UTRXIIYGj"
      }
    },
    {
      "cell_type": "code",
      "source": [
        "# Importar las bibliotecas de visualización\n",
        "import matplotlib.pyplot as plt\n",
        "import seaborn as sns\n",
        "\n",
        "# Configuraciones opcionales para mejorar la apariencia en Colab/Jupyter\n",
        "# %matplotlib inline # Asegura que los gráficos se muestren en el notebook\n",
        "# sns.set(style=\"whitegrid\") # Aplica un estilo de Seaborn por defecto"
      ],
      "metadata": {
        "id": "-iTpdmg2IW2Z"
      },
      "execution_count": null,
      "outputs": []
    },
    {
      "cell_type": "code",
      "source": [
        "# Lectura de dataframes desde internet\n",
        "\n",
        "dire = \"https://raw.githubusercontent.com/pabanib/dataframes/master/housing.csv\"\n",
        "\n",
        "df = pd.read_csv(dire)\n",
        "df.head()"
      ],
      "metadata": {
        "id": "YB_LhzOppa0_"
      },
      "execution_count": null,
      "outputs": []
    },
    {
      "cell_type": "markdown",
      "source": [
        "### Gráfico de Barras\n",
        "\n",
        "Útil para comparar cantidades entre diferentes categorías."
      ],
      "metadata": {
        "id": "O0uCG4_qIby7"
      }
    },
    {
      "cell_type": "code",
      "source": [
        "# Gráfico de Barras con Matplotlib\n",
        "\n",
        "# Contemos cuántas propiedades hay por 'ocean_proximity'\n",
        "conteo_oceano = df['ocean_proximity'].value_counts()\n",
        "print(\"Conteo por categoría:\\n\", conteo_oceano)\n",
        "\n"
      ],
      "metadata": {
        "id": "2PoAsOzxIaVT"
      },
      "execution_count": null,
      "outputs": []
    },
    {
      "cell_type": "code",
      "source": [
        "\n"
      ],
      "metadata": {
        "id": "tmS7Mj9qyBAS"
      },
      "execution_count": null,
      "outputs": []
    },
    {
      "cell_type": "code",
      "source": [
        "# Crear el gráfico de barras\n",
        "plt.figure(figsize=(8, 5)) # Opcional: ajustar tamaño de la figura (ancho, alto en pulgadas)\n",
        "plt.bar(conteo_oceano.index, conteo_oceano.values) # .index son las categorías, .values son las alturas\n",
        "\n",
        "plt.title('Número de Propiedades por Proximidad al Océano')\n",
        "plt.xlabel('Proximidad al Océano')\n",
        "plt.ylabel('Número de Propiedades')\n",
        "plt.xticks(rotation=45) # Opcional: Rotar etiquetas del eje X si se solapan\n",
        "plt.show() # Muestra el gráfico"
      ],
      "metadata": {
        "id": "x9dcDEOsyFSY"
      },
      "execution_count": null,
      "outputs": []
    },
    {
      "cell_type": "code",
      "source": [
        "# Gráfico de Barras con Seaborn (más directo para conteos)\n",
        "\n",
        "plt.figure(figsize=(8, 5))\n",
        "sns.countplot(data=df, x='ocean_proximity')\n"
      ],
      "metadata": {
        "id": "Cs7uedXDIdhD"
      },
      "execution_count": null,
      "outputs": []
    },
    {
      "cell_type": "code",
      "source": [
        "plt.figure(figsize=(8, 5))\n",
        "sns.countplot(data=df, x='ocean_proximity', order=conteo_oceano.index) # order opcional para mantener el orden de value_counts\n",
        "plt.title('Número de Propiedades por Proximidad al Océano (Seaborn)')\n",
        "plt.xlabel('Proximidad al Océano')\n",
        "plt.ylabel('Frecuencia (Count)')\n",
        "plt.xticks(rotation=45)\n",
        "plt.show()"
      ],
      "metadata": {
        "id": "v6tTnmlMyTiT"
      },
      "execution_count": null,
      "outputs": []
    },
    {
      "cell_type": "markdown",
      "source": [
        "### Gráfico de Dispersión (Scatter Plot)\n",
        "\n",
        "Ideal para visualizar la relación entre dos variables numéricas. Cada punto representa una observación (una fila del DataFrame)."
      ],
      "metadata": {
        "id": "kjJuN1NAIhPU"
      }
    },
    {
      "cell_type": "code",
      "source": [
        "# Gráfico de Dispersión con Matplotlib\n",
        "\n",
        "plt.figure(figsize=(10, 6))\n",
        "plt.scatter(df['median_income'], df['median_house_value'], alpha=0.1) # alpha para transparencia (útil con muchos puntos)\n",
        "plt.title('Valor Medio de la Vivienda vs. Ingreso Medio (Matplotlib)')\n",
        "plt.xlabel('Ingreso Medio (Decenas de miles de $)')\n",
        "plt.ylabel('Valor Medio de la Vivienda ($)')\n",
        "plt.show()"
      ],
      "metadata": {
        "id": "5tY1iD6ZIfeC"
      },
      "execution_count": null,
      "outputs": []
    },
    {
      "cell_type": "code",
      "source": [
        "# Gráfico de Dispersión con Seaborn\n",
        "\n",
        "plt.figure(figsize=(10, 6))\n",
        "sns.scatterplot(data=df, x='median_income', y='median_house_value', alpha=0.1)\n",
        "plt.title('Valor Medio de la Vivienda vs. Ingreso Medio (Seaborn)')\n",
        "plt.xlabel('Ingreso Medio') # Seaborn a veces pone nombres por defecto\n",
        "plt.ylabel('Valor Medio de la Vivienda')\n",
        "plt.show()\n",
        "\n"
      ],
      "metadata": {
        "id": "h6XEEpljIjAq"
      },
      "execution_count": null,
      "outputs": []
    },
    {
      "cell_type": "code",
      "source": [
        "# Seaborn facilita añadir más dimensiones, por ejemplo, coloreando por categoría\n",
        "plt.figure(figsize=(12, 7))\n",
        "sns.scatterplot(data=df, x='median_income', y='median_house_value', hue='ocean_proximity', alpha=0.2)\n",
        "plt.title('Valor Vivienda vs. Ingreso (Coloreado por Proximidad Océano)')\n",
        "plt.xlabel('Ingreso Medio')\n",
        "plt.ylabel('Valor Medio de la Vivienda')\n",
        "plt.show()"
      ],
      "metadata": {
        "id": "fzOBiy_zuqPC"
      },
      "execution_count": null,
      "outputs": []
    },
    {
      "cell_type": "markdown",
      "source": [
        "### Personalización Básica\n",
        "\n",
        "Tanto Matplotlib como Seaborn (ya que Seaborn usa Matplotlib por debajo) permiten personalizar los gráficos."
      ],
      "metadata": {
        "id": "sP6Asd-cImzU"
      }
    },
    {
      "cell_type": "code",
      "source": [
        "# Ejemplo de personalización (aplicado a un gráfico de Matplotlib)\n",
        "\n",
        "plt.figure(figsize=(10, 6)) # Tamaño de la figura\n",
        "plt.scatter(df['longitude'], df['latitude'], alpha=0.1, c=df['median_house_value'], cmap='viridis') # Colorear por valor\n",
        "plt.colorbar(label='Valor Medio Vivienda') # Añadir barra de color\n",
        "plt.title('Distribución Geográfica de Propiedades', fontsize=16) # Título con tamaño de fuente\n",
        "plt.xlabel('Longitud', fontsize=12)\n",
        "plt.ylabel('Latitud', fontsize=12)\n",
        "plt.grid(True) # Añadir rejilla\n",
        "plt.show()"
      ],
      "metadata": {
        "id": "PK-zJHr6IlEy"
      },
      "execution_count": null,
      "outputs": []
    },
    {
      "cell_type": "markdown",
      "source": [
        "### Integración de Pandas con Matplotlib\n",
        "\n",
        "Pandas tiene métodos `.plot()` integrados que usan Matplotlib por debajo para crear gráficos rápidamente desde DataFrames o Series.\n",
        "\n",
        "Sintaxis: `df['columna'].plot(kind='tipo_grafico')` o `df.plot(kind='...', x='col_x', y='col_y')`"
      ],
      "metadata": {
        "id": "9wUqZuZjIrQF"
      }
    },
    {
      "cell_type": "code",
      "source": [
        "# Ejemplo de .plot() de Pandas\n",
        "\n",
        "# Histograma del ingreso medio\n",
        "df['median_income'].plot(kind='hist')\n",
        "plt.xlabel('Ingreso Medio')\n",
        "plt.show()\n",
        "\n"
      ],
      "metadata": {
        "id": "L71lfn3IIoq7"
      },
      "execution_count": null,
      "outputs": []
    },
    {
      "cell_type": "code",
      "source": [
        "# Histograma del ingreso medio\n",
        "df['median_income'].plot(kind='hist', bins=50, figsize=(8, 5), title='Histograma del Ingreso Medio (Pandas .plot)')\n",
        "plt.xlabel('Ingreso Medio')\n",
        "plt.show()"
      ],
      "metadata": {
        "id": "2rINSvrbzbuV"
      },
      "execution_count": null,
      "outputs": []
    },
    {
      "cell_type": "code",
      "source": [
        "# Gráfico de barras del conteo por océano (usando la Serie que calculamos antes)\n",
        "conteo_oceano.plot(kind='bar', figsize=(8, 5), title='Propiedades por Océano (Pandas .plot)')\n",
        "plt.ylabel('Número de Propiedades')\n",
        "plt.xticks(rotation=0) # Rotar etiquetas si es necesario\n",
        "plt.show()"
      ],
      "metadata": {
        "id": "x3KN_SUwwmOO"
      },
      "execution_count": null,
      "outputs": []
    },
    {
      "cell_type": "code",
      "source": [
        "# Ejercicio Práctico 1: Gráfico de Dispersión Personalizado\n",
        "# 1. Crea un gráfico de dispersión (usando Matplotlib o Seaborn) para visualizar la relación\n",
        "#    entre 'housing_median_age' (eje x) y 'median_house_value' (eje y) del DataFrame 'df'.\n",
        "# 2. Añade un título descriptivo al gráfico.\n",
        "# 3. Añade etiquetas a los ejes X e Y.\n",
        "# 4. (Opcional) Experimenta con el parámetro 'alpha' si hay muchos puntos.\n",
        "# 5. Muestra el gráfico."
      ],
      "metadata": {
        "id": "g8WobdQHItLL"
      },
      "execution_count": null,
      "outputs": []
    },
    {
      "cell_type": "code",
      "source": [
        "# Ejercicio Práctico 2: Gráfico de Barras con Tamaño Ajustado\n",
        "# 1. Calcula cuántas propiedades hay para cada valor único en la columna 'housing_median_age'.\n",
        "#    (Pista: usa `.value_counts()` en esa columna. Puede que quieras ordenarlo por índice con `.sort_index()`).\n",
        "# 2. Crea un gráfico de barras (usando Matplotlib, Seaborn o Pandas .plot) para mostrar esta distribución.\n",
        "# 3. Establece el tamaño de la figura (`figsize`) a un ancho de 15 y un alto de 6 pulgadas para que se vea mejor.\n",
        "# 4. Añade un título y etiquetas a los ejes.\n",
        "# 5. Muestra el gráfico."
      ],
      "metadata": {
        "id": "ugv09vZaIvF8"
      },
      "execution_count": null,
      "outputs": []
    },
    {
      "cell_type": "markdown",
      "source": [
        "---\n",
        "# ¡Fin de la Introducción!\n",
        "\n",
        "¡Felicidades! Has cubierto los fundamentos de Python, Numpy, Pandas y visualización básica con Matplotlib/Seaborn. Esto es solo el comienzo de tu viaje en la Ciencia de Datos.\n",
        "\n",
        "**Próximos Pasos Sugeridos:**\n",
        "* Practicar mucho con los ejercicios y experimentar con el dataset.\n",
        "* Explorar más funciones de Pandas (merge, join, pivot_table, manejo de fechas).\n",
        "* Aprender más sobre visualización (diferentes tipos de gráficos, personalización avanzada).\n",
        "* Introducirte a bibliotecas de Machine Learning como Scikit-learn.\n",
        "\n",
        "¡Sigue aprendiendo y explorando el fascinante mundo de los datos!\n",
        "---"
      ],
      "metadata": {
        "id": "jw7dfQojIygN"
      }
    },
    {
      "cell_type": "code",
      "source": [],
      "metadata": {
        "id": "wD9XiJ6iIwcT"
      },
      "execution_count": null,
      "outputs": []
    }
  ]
}